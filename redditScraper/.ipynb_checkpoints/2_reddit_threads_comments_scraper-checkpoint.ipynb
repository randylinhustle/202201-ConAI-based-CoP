{
 "cells": [
  {
   "cell_type": "code",
   "execution_count": null,
   "id": "157329d3",
   "metadata": {},
   "outputs": [],
   "source": [
    "import pandas as pd\n",
    "pd.set_option('display.max_rows', 300)\n",
    "import praw #reddit data api\n",
    "\n",
    "%matplotlib inline"
   ]
  },
  {
   "cell_type": "code",
   "execution_count": null,
   "id": "470c9da6",
   "metadata": {},
   "outputs": [],
   "source": [
    "import tensorflow as tf\n",
    "from tensorflow import keras\n",
    "tf.test.gpu_device_name() #run to make sure tensorflow is connected to gpu (if applicable)"
   ]
  },
  {
   "cell_type": "code",
   "execution_count": null,
   "id": "0e1d12af",
   "metadata": {},
   "outputs": [],
   "source": [
    "df = pd.read_csv(\"googleassistant_threads.csv\", encoding='utf-8')\n",
    "df"
   ]
  },
  {
   "cell_type": "code",
   "execution_count": null,
   "id": "e8060e9b",
   "metadata": {},
   "outputs": [],
   "source": [
    "reddit = praw.Reddit(client_id='qbzbd0-6fh-1IQ', client_secret='yQJiQnUGeWeMW64JPR8Fri7AFdeRRw', user_agent='DataStory')"
   ]
  },
  {
   "cell_type": "code",
   "execution_count": null,
   "id": "961bf606",
   "metadata": {},
   "outputs": [],
   "source": [
    "comment_list = []\n",
    "\n",
    "for url in df['full_link'].tolist():\n",
    "    try:\n",
    "        submission = reddit.submission(url=url)\n",
    "        submission.comments.replace_more(limit=0)\n",
    "        for comment in submission.comments:\n",
    "            comment_list.append({\n",
    "                \"post_title\": comment.submission.title, \n",
    "                \"post_author\": comment.submission.author,\n",
    "                \"post_id\": comment.submission.id, \n",
    "                \"post_created\": comment.submission.created_utc,\n",
    "                \"post_link_flair_text\": comment.submission.link_flair_text,\n",
    "                \"post_link_upvote_ratio\": comment.submission.upvote_ratio,\n",
    "                \"post_subreddit\": comment.submission.subreddit, \n",
    "                \"post_locked\":comment.submission.locked,\n",
    "                \"comment_author\": comment.author, \n",
    "                \"comment_id\": comment.id, \n",
    "                \"comment_is_submitter\": comment.is_submitter,\n",
    "                \"comment_msg\": comment.body, \n",
    "                \"comment_created\": comment.created_utc, \n",
    "                \"score\": comment.score})\n",
    "    except:\n",
    "        comment_list.append({\n",
    "            \"post_title\": None,\n",
    "            \"post_author\": None,\n",
    "            \"post_id\": None,\n",
    "            \"post_created\": None,\n",
    "            \"post_link_flair_text\": None,\n",
    "            \"post_link_upvote_ratio\": None,\n",
    "            \"post_subreddit\": None,\n",
    "            \"post_locked\": None,\n",
    "            \"comment_author\": None,\n",
    "            \"comment_id\": None,\n",
    "            \"comment_is_submitter\": None,\n",
    "            \"comment_msg\": None,\n",
    "            \"comment_created\": None,\n",
    "            \"score\": None})\n",
    "\n",
    "df_comment = pd.DataFrame(comment_list)\n",
    "df_comment['post_created'] = pd.to_datetime(df_comment['post_created'], unit='s')\n",
    "df_comment['comment_created'] = pd.to_datetime(df_comment['comment_created'], unit='s')\n",
    "df_comment.to_csv('googleassistant_threads_comments.csv', index=False, encoding=\"utf-8\")"
   ]
  },
  {
   "cell_type": "code",
   "execution_count": null,
   "id": "d8dead75",
   "metadata": {},
   "outputs": [],
   "source": [
    "df = pd.read_csv(\"googleassistant_threads_comments.csv\", encoding='utf-8')\n",
    "df"
   ]
  }
 ],
 "metadata": {
  "kernelspec": {
   "display_name": "Python 3",
   "language": "python",
   "name": "python3"
  },
  "language_info": {
   "codemirror_mode": {
    "name": "ipython",
    "version": 3
   },
   "file_extension": ".py",
   "mimetype": "text/x-python",
   "name": "python",
   "nbconvert_exporter": "python",
   "pygments_lexer": "ipython3",
   "version": "3.8.8"
  }
 },
 "nbformat": 4,
 "nbformat_minor": 5
}
